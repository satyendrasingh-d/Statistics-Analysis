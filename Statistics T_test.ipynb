{
 "cells": [
  {
   "cell_type": "code",
   "execution_count": 145,
   "id": "5e5e6a50-d6d9-4ec6-92b2-20490ffe5462",
   "metadata": {},
   "outputs": [],
   "source": [
    "import numpy as np\n",
    "import pandas as pd"
   ]
  },
  {
   "cell_type": "code",
   "execution_count": 146,
   "id": "6885064a-c1c5-4c5c-a729-28e7285f82c3",
   "metadata": {},
   "outputs": [],
   "source": [
    "test={\"g\":[\"m\",\"m\",\"n\",\"m\",\"n\",\"m\"],\n",
    "     \"result\":[\"pass\",\"fail\",\"pass\",\"pass\",\"fail\",\"pass\"]}\n",
    "df=pd.DataFrame(test)"
   ]
  },
  {
   "cell_type": "code",
   "execution_count": 147,
   "id": "9e0f17b8-e811-4b9a-b6af-214dfa44bb43",
   "metadata": {},
   "outputs": [
    {
     "data": {
      "text/html": [
       "<div>\n",
       "<style scoped>\n",
       "    .dataframe tbody tr th:only-of-type {\n",
       "        vertical-align: middle;\n",
       "    }\n",
       "\n",
       "    .dataframe tbody tr th {\n",
       "        vertical-align: top;\n",
       "    }\n",
       "\n",
       "    .dataframe thead th {\n",
       "        text-align: right;\n",
       "    }\n",
       "</style>\n",
       "<table border=\"1\" class=\"dataframe\">\n",
       "  <thead>\n",
       "    <tr style=\"text-align: right;\">\n",
       "      <th></th>\n",
       "      <th>g</th>\n",
       "      <th>result</th>\n",
       "    </tr>\n",
       "  </thead>\n",
       "  <tbody>\n",
       "    <tr>\n",
       "      <th>0</th>\n",
       "      <td>m</td>\n",
       "      <td>pass</td>\n",
       "    </tr>\n",
       "    <tr>\n",
       "      <th>1</th>\n",
       "      <td>m</td>\n",
       "      <td>fail</td>\n",
       "    </tr>\n",
       "    <tr>\n",
       "      <th>2</th>\n",
       "      <td>n</td>\n",
       "      <td>pass</td>\n",
       "    </tr>\n",
       "    <tr>\n",
       "      <th>3</th>\n",
       "      <td>m</td>\n",
       "      <td>pass</td>\n",
       "    </tr>\n",
       "    <tr>\n",
       "      <th>4</th>\n",
       "      <td>n</td>\n",
       "      <td>fail</td>\n",
       "    </tr>\n",
       "  </tbody>\n",
       "</table>\n",
       "</div>"
      ],
      "text/plain": [
       "   g result\n",
       "0  m   pass\n",
       "1  m   fail\n",
       "2  n   pass\n",
       "3  m   pass\n",
       "4  n   fail"
      ]
     },
     "execution_count": 147,
     "metadata": {},
     "output_type": "execute_result"
    }
   ],
   "source": [
    "df.head()"
   ]
  },
  {
   "cell_type": "code",
   "execution_count": 148,
   "id": "f9000596-1f4e-4434-b13d-9baa80515699",
   "metadata": {},
   "outputs": [
    {
     "data": {
      "text/html": [
       "<div>\n",
       "<style scoped>\n",
       "    .dataframe tbody tr th:only-of-type {\n",
       "        vertical-align: middle;\n",
       "    }\n",
       "\n",
       "    .dataframe tbody tr th {\n",
       "        vertical-align: top;\n",
       "    }\n",
       "\n",
       "    .dataframe thead th {\n",
       "        text-align: right;\n",
       "    }\n",
       "</style>\n",
       "<table border=\"1\" class=\"dataframe\">\n",
       "  <thead>\n",
       "    <tr style=\"text-align: right;\">\n",
       "      <th>result</th>\n",
       "      <th>fail</th>\n",
       "      <th>pass</th>\n",
       "    </tr>\n",
       "    <tr>\n",
       "      <th>g</th>\n",
       "      <th></th>\n",
       "      <th></th>\n",
       "    </tr>\n",
       "  </thead>\n",
       "  <tbody>\n",
       "    <tr>\n",
       "      <th>m</th>\n",
       "      <td>1</td>\n",
       "      <td>3</td>\n",
       "    </tr>\n",
       "    <tr>\n",
       "      <th>n</th>\n",
       "      <td>1</td>\n",
       "      <td>1</td>\n",
       "    </tr>\n",
       "  </tbody>\n",
       "</table>\n",
       "</div>"
      ],
      "text/plain": [
       "result  fail  pass\n",
       "g                 \n",
       "m          1     3\n",
       "n          1     1"
      ]
     },
     "execution_count": 148,
     "metadata": {},
     "output_type": "execute_result"
    }
   ],
   "source": [
    "x_df=pd.crosstab(df[\"g\"],df[\"result\"])\n",
    "x_df"
   ]
  },
  {
   "cell_type": "code",
   "execution_count": 149,
   "id": "ecd429ce-e667-4482-82d4-7f635b9fabf5",
   "metadata": {},
   "outputs": [
    {
     "name": "stdout",
     "output_type": "stream",
     "text": [
      "Value of Chi2 is: 0.0\n",
      "Value of p is: 1.0\n",
      "Value of dof : 1\n",
      "Value of expectancy [[1.33333333 2.66666667]\n",
      " [0.66666667 1.33333333]]\n",
      "There is association between gender and result(Fail to reject H0)\n"
     ]
    }
   ],
   "source": [
    "from scipy.stats import chi2_contingency\n",
    "chi2,p,dof,expectancy=chi2_contingency(x_df)\n",
    "print(\"Value of Chi2 is:\",chi2)\n",
    "print(\"Value of p is:\",p)\n",
    "print(\"Value of dof :\",dof)\n",
    "print(\"Value of expectancy\",expectancy)\n",
    "\n",
    "if p>0.05:\n",
    "  print(\"There is association between gender and result(Fail to reject H0)\")\n",
    "else:\n",
    "  print(\"There is no association between gender and result(reject H0)\")"
   ]
  },
  {
   "cell_type": "code",
   "execution_count": 150,
   "id": "a9f3b62a-4653-420a-8bc0-4652bb1e90f6",
   "metadata": {},
   "outputs": [],
   "source": [
    "test={\"x\":[\"m\",\"m\",\"n\",\"m\",\"n\",\"m\"],\n",
    "     \"result\":[\"pass\",\"fail\",\"pass\",\"pass\",\"fail\",\"pass\"]}\n",
    "df=pd.DataFrame(test)"
   ]
  },
  {
   "cell_type": "code",
   "execution_count": 151,
   "id": "69ef07d9-90e9-4471-8b5e-5420fb2fb9b9",
   "metadata": {},
   "outputs": [
    {
     "name": "stdout",
     "output_type": "stream",
     "text": [
      "[1, 2, 3, 4, 5, 6, 7, 8, 9, 102, 112, 125, 133, 140, 153, 16, 17, 18, 19, 20]\n"
     ]
    }
   ],
   "source": [
    "x=[1,2,3,4,5,6,7,8,9,102,112,125,133,140,153,16,17,18,19,20]\n",
    "print(x)"
   ]
  },
  {
   "cell_type": "markdown",
   "id": "154db3d0-87d1-419f-9b31-a40e5efce742",
   "metadata": {},
   "source": [
    "# Ttest-1sample"
   ]
  },
  {
   "cell_type": "code",
   "execution_count": 152,
   "id": "fba340e4-e966-4fd1-8e17-d7885f431461",
   "metadata": {},
   "outputs": [],
   "source": [
    "assumed_mean = 44\n",
    "from scipy.stats import ttest_1samp"
   ]
  },
  {
   "cell_type": "code",
   "execution_count": 153,
   "id": "bba64d16-68dc-4228-9637-a5a89621da14",
   "metadata": {},
   "outputs": [],
   "source": [
    "stat,pvalue=ttest_1samp(x,assumed_mean)"
   ]
  },
  {
   "cell_type": "code",
   "execution_count": 154,
   "id": "3dc9d41f-7088-435d-9ede-76018f66a5cf",
   "metadata": {},
   "outputs": [
    {
     "name": "stdout",
     "output_type": "stream",
     "text": [
      "44\n",
      "0.07913116177544958\n",
      "0.9377557850322523\n"
     ]
    }
   ],
   "source": [
    "print(assumed_mean)\n",
    "print(stat)\n",
    "print(pvalue)"
   ]
  },
  {
   "cell_type": "code",
   "execution_count": 155,
   "id": "23ef83dc-3004-483f-a5a2-bd43faf474f4",
   "metadata": {},
   "outputs": [
    {
     "name": "stdout",
     "output_type": "stream",
     "text": [
      "Accept H0\n"
     ]
    }
   ],
   "source": [
    "if pvalue>0.05:\n",
    "    print(\"Accept H0\")\n",
    "else:\n",
    "    print(\"Reject H0\")"
   ]
  },
  {
   "cell_type": "markdown",
   "id": "dccc9720-8a17-479a-8a02-b91cf2994d97",
   "metadata": {},
   "source": [
    "# Ttest-2sample(independent)"
   ]
  },
  {
   "cell_type": "code",
   "execution_count": 156,
   "id": "63f91767-125a-4715-8f08-ba240a959ace",
   "metadata": {},
   "outputs": [],
   "source": [
    "data1=[1,21,23,422,5,6,7,8,9,102,112,125,133,140,153,16,17,18,19,20]"
   ]
  },
  {
   "cell_type": "code",
   "execution_count": 157,
   "id": "646e20f2-9c3f-40e2-aa44-d22daeedbfd8",
   "metadata": {},
   "outputs": [],
   "source": [
    "sum_y=sum(data1)"
   ]
  },
  {
   "cell_type": "code",
   "execution_count": 158,
   "id": "f3baa3d9-811b-4432-9253-b2b3f19ae867",
   "metadata": {},
   "outputs": [],
   "source": [
    "len_y=len(data1)"
   ]
  },
  {
   "cell_type": "code",
   "execution_count": 159,
   "id": "7430ecd4-87be-4ee1-828e-615aed20e4f1",
   "metadata": {},
   "outputs": [
    {
     "data": {
      "text/plain": [
       "67.85"
      ]
     },
     "execution_count": 159,
     "metadata": {},
     "output_type": "execute_result"
    }
   ],
   "source": [
    "mean_y=sum_y/len_y\n",
    "mean_y"
   ]
  },
  {
   "cell_type": "code",
   "execution_count": 160,
   "id": "533b32c1-f74a-44e7-89ee-5e980f9e1420",
   "metadata": {},
   "outputs": [
    {
     "name": "stdout",
     "output_type": "stream",
     "text": [
      "[1, 2, 3, 4, 5, 6, 7, 8, 9, 102, 112, 125, 133, 140, 153, 16, 17, 18, 19, 20]\n"
     ]
    }
   ],
   "source": [
    "data2=[1,2,3,4,5,6,7,8,9,102,112,125,133,140,153,16,17,18,19,20]\n",
    "print(data2)"
   ]
  },
  {
   "cell_type": "code",
   "execution_count": 161,
   "id": "1eb30c05-0669-47a2-8fee-5d435e60d06d",
   "metadata": {},
   "outputs": [
    {
     "name": "stdout",
     "output_type": "stream",
     "text": [
      "900\n",
      "20\n"
     ]
    }
   ],
   "source": [
    "sum_x=sum(data2)\n",
    "len_x=len(data2)\n",
    "print(sum_x)\n",
    "print(len_x)"
   ]
  },
  {
   "cell_type": "code",
   "execution_count": 162,
   "id": "48a94e2f-c0d5-4a47-ad34-736d765ae2ad",
   "metadata": {},
   "outputs": [
    {
     "data": {
      "text/plain": [
       "45.0"
      ]
     },
     "execution_count": 162,
     "metadata": {},
     "output_type": "execute_result"
    }
   ],
   "source": [
    "mean_x=sum_x/len_x\n",
    "mean_x"
   ]
  },
  {
   "cell_type": "code",
   "execution_count": 163,
   "id": "39bf8e87-412c-48f1-aa90-bde6fdfa751c",
   "metadata": {},
   "outputs": [
    {
     "name": "stdout",
     "output_type": "stream",
     "text": [
      "0.8929587331907853\n",
      "0.3774996444870734\n"
     ]
    }
   ],
   "source": [
    "from scipy.stats import ttest_ind\n",
    "stat,pvalue=ttest_ind(data1,data2)\n",
    "print(stat)\n",
    "print(pvalue)"
   ]
  },
  {
   "cell_type": "code",
   "execution_count": 164,
   "id": "aed159d0-8013-4e54-9fcf-68f561aefd6e",
   "metadata": {},
   "outputs": [
    {
     "name": "stdout",
     "output_type": "stream",
     "text": [
      "The mean of both data is different\n"
     ]
    }
   ],
   "source": [
    "if pvalue>0.05:\n",
    "    print(\"The mean of both data is different\")\n",
    "else:\n",
    "    print(\"The mean of both the data is same\")"
   ]
  },
  {
   "cell_type": "markdown",
   "id": "bce2d8ca-621d-440f-b892-8b48f0f92f2b",
   "metadata": {},
   "source": [
    "# Ttest-dependent(relative)"
   ]
  },
  {
   "cell_type": "code",
   "execution_count": 198,
   "id": "34bd982e-ea51-4cfd-82d1-e033ec92a26a",
   "metadata": {},
   "outputs": [
    {
     "name": "stdout",
     "output_type": "stream",
     "text": [
      "0.18356686005527661\n"
     ]
    }
   ],
   "source": [
    "from scipy.stats import ttest_rel\n",
    "\n",
    "mark1=[20,20,20,16,17]\n",
    "mark2=[20,20,20,20,20]\n",
    "pvalue=ttest_rel(mark1,mark2)\n",
    "print(pvalue[1])"
   ]
  },
  {
   "cell_type": "code",
   "execution_count": 204,
   "id": "40ff5618-334f-4097-a5a4-3d01a31d5352",
   "metadata": {},
   "outputs": [
    {
     "name": "stdout",
     "output_type": "stream",
     "text": [
      "The data is different\n"
     ]
    }
   ],
   "source": [
    "if pvalue[1]>0.05:\n",
    "    print(\"The data is different\")\n",
    "else:\n",
    "    print(\"The data is same\")"
   ]
  },
  {
   "cell_type": "code",
   "execution_count": null,
   "id": "0c120dcb-0f30-43c0-b977-59e23418662c",
   "metadata": {},
   "outputs": [],
   "source": []
  }
 ],
 "metadata": {
  "kernelspec": {
   "display_name": "Python 3 (ipykernel)",
   "language": "python",
   "name": "python3"
  },
  "language_info": {
   "codemirror_mode": {
    "name": "ipython",
    "version": 3
   },
   "file_extension": ".py",
   "mimetype": "text/x-python",
   "name": "python",
   "nbconvert_exporter": "python",
   "pygments_lexer": "ipython3",
   "version": "3.12.4"
  }
 },
 "nbformat": 4,
 "nbformat_minor": 5
}
