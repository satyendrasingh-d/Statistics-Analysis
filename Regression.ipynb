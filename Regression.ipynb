{
 "cells": [
  {
   "cell_type": "code",
   "execution_count": 1,
   "id": "495e01a2-7eea-41ad-a229-491f2f024161",
   "metadata": {},
   "outputs": [],
   "source": [
    "import pandas as pd"
   ]
  },
  {
   "cell_type": "code",
   "execution_count": 2,
   "id": "d2712b06-80d6-42d5-8eac-3055bd07fb41",
   "metadata": {},
   "outputs": [],
   "source": [
    "import numpy as np"
   ]
  },
  {
   "cell_type": "code",
   "execution_count": 3,
   "id": "eb001b45-faf3-4037-914e-e9dbbc13df45",
   "metadata": {},
   "outputs": [],
   "source": [
    "data={\n",
    "    \"age\":[25,30,35,40,45,50],\n",
    "    \"work exp\":[2,5,8,12,16,20]           \n",
    "}\n",
    "df=pd.DataFrame(data)"
   ]
  },
  {
   "cell_type": "code",
   "execution_count": 4,
   "id": "80f5ef46-be9f-4f08-863d-a81627dba354",
   "metadata": {},
   "outputs": [
    {
     "data": {
      "text/html": [
       "<div>\n",
       "<style scoped>\n",
       "    .dataframe tbody tr th:only-of-type {\n",
       "        vertical-align: middle;\n",
       "    }\n",
       "\n",
       "    .dataframe tbody tr th {\n",
       "        vertical-align: top;\n",
       "    }\n",
       "\n",
       "    .dataframe thead th {\n",
       "        text-align: right;\n",
       "    }\n",
       "</style>\n",
       "<table border=\"1\" class=\"dataframe\">\n",
       "  <thead>\n",
       "    <tr style=\"text-align: right;\">\n",
       "      <th></th>\n",
       "      <th>age</th>\n",
       "      <th>work exp</th>\n",
       "    </tr>\n",
       "  </thead>\n",
       "  <tbody>\n",
       "    <tr>\n",
       "      <th>0</th>\n",
       "      <td>25</td>\n",
       "      <td>2</td>\n",
       "    </tr>\n",
       "    <tr>\n",
       "      <th>1</th>\n",
       "      <td>30</td>\n",
       "      <td>5</td>\n",
       "    </tr>\n",
       "    <tr>\n",
       "      <th>2</th>\n",
       "      <td>35</td>\n",
       "      <td>8</td>\n",
       "    </tr>\n",
       "    <tr>\n",
       "      <th>3</th>\n",
       "      <td>40</td>\n",
       "      <td>12</td>\n",
       "    </tr>\n",
       "    <tr>\n",
       "      <th>4</th>\n",
       "      <td>45</td>\n",
       "      <td>16</td>\n",
       "    </tr>\n",
       "  </tbody>\n",
       "</table>\n",
       "</div>"
      ],
      "text/plain": [
       "   age  work exp\n",
       "0   25         2\n",
       "1   30         5\n",
       "2   35         8\n",
       "3   40        12\n",
       "4   45        16"
      ]
     },
     "execution_count": 4,
     "metadata": {},
     "output_type": "execute_result"
    }
   ],
   "source": [
    "df.head()"
   ]
  },
  {
   "cell_type": "code",
   "execution_count": 5,
   "id": "70a54911-9805-4876-8199-287a2f0cbc07",
   "metadata": {},
   "outputs": [],
   "source": [
    "#slope=n*sumation of (xy)- sumation of (x)* summation of (y) / n*sumation of (x square)- summationof (x)Ka square"
   ]
  },
  {
   "cell_type": "code",
   "execution_count": 6,
   "id": "fae88a20-15c9-4dc0-99ae-55aff0a24f8c",
   "metadata": {},
   "outputs": [],
   "source": [
    "#intercept=  summaation of (y)- slope * sumation of (x) / n"
   ]
  },
  {
   "cell_type": "code",
   "execution_count": 7,
   "id": "016dfab8-415d-4806-9dfb-3a7f68f3fead",
   "metadata": {},
   "outputs": [
    {
     "data": {
      "text/plain": [
       "6"
      ]
     },
     "execution_count": 7,
     "metadata": {},
     "output_type": "execute_result"
    }
   ],
   "source": [
    "n=len(df)\n",
    "n"
   ]
  },
  {
   "cell_type": "code",
   "execution_count": 8,
   "id": "672715fc-e4bb-476b-bc1a-96bf2de566f8",
   "metadata": {},
   "outputs": [
    {
     "data": {
      "text/plain": [
       "16080"
      ]
     },
     "execution_count": 8,
     "metadata": {},
     "output_type": "execute_result"
    }
   ],
   "source": [
    "nsumxy= n*((df[\"age\"]*df[\"work exp\"]).sum())\n",
    "nsumxy"
   ]
  },
  {
   "cell_type": "code",
   "execution_count": 9,
   "id": "cd5baae8-c370-4a8b-9b68-451e1909582d",
   "metadata": {},
   "outputs": [
    {
     "data": {
      "text/plain": [
       "14175"
      ]
     },
     "execution_count": 9,
     "metadata": {},
     "output_type": "execute_result"
    }
   ],
   "source": [
    "sumxsumy=df[\"age\"].sum()*df[\"work exp\"].sum()\n",
    "sumxsumy"
   ]
  },
  {
   "cell_type": "code",
   "execution_count": 10,
   "id": "31145d5f-0fd0-430d-ae38-06d7602708c7",
   "metadata": {},
   "outputs": [
    {
     "data": {
      "text/plain": [
       "53250"
      ]
     },
     "execution_count": 10,
     "metadata": {},
     "output_type": "execute_result"
    }
   ],
   "source": [
    "nsumx2=n*(df[\"age\"]**2).sum()\n",
    "nsumx2"
   ]
  },
  {
   "cell_type": "code",
   "execution_count": 11,
   "id": "3de93cbf-fca5-43a4-aeca-6d82c30163b1",
   "metadata": {},
   "outputs": [
    {
     "data": {
      "text/plain": [
       "50625"
      ]
     },
     "execution_count": 11,
     "metadata": {},
     "output_type": "execute_result"
    }
   ],
   "source": [
    "sumx2= (df[\"age\"].sum())**2\n",
    "sumx2"
   ]
  },
  {
   "cell_type": "code",
   "execution_count": 12,
   "id": "572669db-ab55-4cbd-b894-3f2f6d8e3ddf",
   "metadata": {},
   "outputs": [
    {
     "data": {
      "text/plain": [
       "0.7257142857142858"
      ]
     },
     "execution_count": 12,
     "metadata": {},
     "output_type": "execute_result"
    }
   ],
   "source": [
    "slope=(nsumxy-sumxsumy)/(nsumx2-sumx2)\n",
    "slope"
   ]
  },
  {
   "cell_type": "code",
   "execution_count": 13,
   "id": "eda7c566-445a-413c-bd96-8585ba7e82eb",
   "metadata": {},
   "outputs": [
    {
     "data": {
      "text/plain": [
       "-16.71428571428572"
      ]
     },
     "execution_count": 13,
     "metadata": {},
     "output_type": "execute_result"
    }
   ],
   "source": [
    "intercept=(df[\"work exp\"].sum()-slope*df[\"age\"].sum())/(n)\n",
    "intercept"
   ]
  },
  {
   "cell_type": "code",
   "execution_count": 14,
   "id": "98c01b31-f470-469d-bfe9-97066dd0902c",
   "metadata": {},
   "outputs": [
    {
     "data": {
      "text/plain": [
       "0.7257142857142858"
      ]
     },
     "execution_count": 14,
     "metadata": {},
     "output_type": "execute_result"
    }
   ],
   "source": [
    "slope=(n*((df[\"age\"]*df[\"work exp\"]).sum())-df[\"age\"].sum()*df[\"work exp\"].sum())/(n*(df[\"age\"]**2).sum()-(df[\"age\"].sum())**2)\n",
    "slope"
   ]
  },
  {
   "cell_type": "code",
   "execution_count": 15,
   "id": "8f3ffc3f-f2fa-438a-89b4-a258653cb0e7",
   "metadata": {},
   "outputs": [
    {
     "data": {
      "text/plain": [
       "-16.71428571428572"
      ]
     },
     "execution_count": 15,
     "metadata": {},
     "output_type": "execute_result"
    }
   ],
   "source": [
    "intercept=(df[\"work exp\"].sum()-slope*df[\"age\"].sum())/(n)\n",
    "intercept"
   ]
  },
  {
   "cell_type": "code",
   "execution_count": 16,
   "id": "1bdfd316-7c03-4c08-8980-18c596b483e5",
   "metadata": {},
   "outputs": [],
   "source": [
    "data=pd.read_csv(\"C:\\\\Users\\\\sb193\\\\OneDrive\\\\Documents\\\\salay_dataset.csv\")"
   ]
  },
  {
   "cell_type": "code",
   "execution_count": 17,
   "id": "cb3afbf9-16ad-4f10-bd95-3a760ecc019e",
   "metadata": {},
   "outputs": [
    {
     "data": {
      "text/html": [
       "<div>\n",
       "<style scoped>\n",
       "    .dataframe tbody tr th:only-of-type {\n",
       "        vertical-align: middle;\n",
       "    }\n",
       "\n",
       "    .dataframe tbody tr th {\n",
       "        vertical-align: top;\n",
       "    }\n",
       "\n",
       "    .dataframe thead th {\n",
       "        text-align: right;\n",
       "    }\n",
       "</style>\n",
       "<table border=\"1\" class=\"dataframe\">\n",
       "  <thead>\n",
       "    <tr style=\"text-align: right;\">\n",
       "      <th></th>\n",
       "      <th>YearsExperience</th>\n",
       "      <th>Salary</th>\n",
       "    </tr>\n",
       "  </thead>\n",
       "  <tbody>\n",
       "    <tr>\n",
       "      <th>0</th>\n",
       "      <td>1.1</td>\n",
       "      <td>39343</td>\n",
       "    </tr>\n",
       "    <tr>\n",
       "      <th>1</th>\n",
       "      <td>1.3</td>\n",
       "      <td>46205</td>\n",
       "    </tr>\n",
       "    <tr>\n",
       "      <th>2</th>\n",
       "      <td>1.5</td>\n",
       "      <td>37731</td>\n",
       "    </tr>\n",
       "    <tr>\n",
       "      <th>3</th>\n",
       "      <td>2.0</td>\n",
       "      <td>43525</td>\n",
       "    </tr>\n",
       "    <tr>\n",
       "      <th>4</th>\n",
       "      <td>2.2</td>\n",
       "      <td>39891</td>\n",
       "    </tr>\n",
       "  </tbody>\n",
       "</table>\n",
       "</div>"
      ],
      "text/plain": [
       "   YearsExperience  Salary\n",
       "0              1.1   39343\n",
       "1              1.3   46205\n",
       "2              1.5   37731\n",
       "3              2.0   43525\n",
       "4              2.2   39891"
      ]
     },
     "execution_count": 17,
     "metadata": {},
     "output_type": "execute_result"
    }
   ],
   "source": [
    "data.head()"
   ]
  },
  {
   "cell_type": "code",
   "execution_count": 18,
   "id": "725f57e1-3594-4cc6-b106-63a0b828321a",
   "metadata": {},
   "outputs": [
    {
     "data": {
      "text/plain": [
       "30"
      ]
     },
     "execution_count": 18,
     "metadata": {},
     "output_type": "execute_result"
    }
   ],
   "source": [
    "n=len(data)\n",
    "n"
   ]
  },
  {
   "cell_type": "code",
   "execution_count": 19,
   "id": "3aacbd9e-84ba-4c87-b771-698060965a01",
   "metadata": {},
   "outputs": [
    {
     "data": {
      "text/plain": [
       "429658830.0"
      ]
     },
     "execution_count": 19,
     "metadata": {},
     "output_type": "execute_result"
    }
   ],
   "source": [
    "nsumxy=n*(data[\"YearsExperience\"]*data[\"Salary\"]).sum()\n",
    "nsumxy"
   ]
  },
  {
   "cell_type": "code",
   "execution_count": 20,
   "id": "9ba14381-97d9-401b-be3e-fc53edd48910",
   "metadata": {},
   "outputs": [
    {
     "data": {
      "text/plain": [
       "363446346.0"
      ]
     },
     "execution_count": 20,
     "metadata": {},
     "output_type": "execute_result"
    }
   ],
   "source": [
    "sumxsumy= data[\"YearsExperience\"].sum()*data[\"Salary\"].sum()\n",
    "sumxsumy"
   ]
  },
  {
   "cell_type": "code",
   "execution_count": 21,
   "id": "0ca9e8ed-c77c-4775-86e0-9f94e4ed5b62",
   "metadata": {},
   "outputs": [
    {
     "data": {
      "text/plain": [
       "32415.0"
      ]
     },
     "execution_count": 21,
     "metadata": {},
     "output_type": "execute_result"
    }
   ],
   "source": [
    "nx2sum=n*(data[\"YearsExperience\"]**2).sum()\n",
    "nx2sum"
   ]
  },
  {
   "cell_type": "code",
   "execution_count": 22,
   "id": "704610b4-6688-4b9c-9622-80f30466f802",
   "metadata": {},
   "outputs": [
    {
     "data": {
      "text/plain": [
       "25408.36"
      ]
     },
     "execution_count": 22,
     "metadata": {},
     "output_type": "execute_result"
    }
   ],
   "source": [
    "sumx2=(data[\"YearsExperience\"].sum())**2\n",
    "sumx2"
   ]
  },
  {
   "cell_type": "code",
   "execution_count": 23,
   "id": "93b2a212-3bbb-4c4a-b988-faaf412511d6",
   "metadata": {},
   "outputs": [
    {
     "data": {
      "text/plain": [
       "9449.962321455077"
      ]
     },
     "execution_count": 23,
     "metadata": {},
     "output_type": "execute_result"
    }
   ],
   "source": [
    "slope=(nsumxy-sumxsumy)/(nx2sum-sumx2)\n",
    "slope"
   ]
  },
  {
   "cell_type": "code",
   "execution_count": 24,
   "id": "5016959a-e66b-442d-9a48-d43a5da27a03",
   "metadata": {},
   "outputs": [
    {
     "data": {
      "text/plain": [
       "25792.200198668685"
      ]
     },
     "execution_count": 24,
     "metadata": {},
     "output_type": "execute_result"
    }
   ],
   "source": [
    "intercept=(data[\"Salary\"].sum()-slope*data[\"YearsExperience\"].sum())/n\n",
    "intercept"
   ]
  },
  {
   "cell_type": "code",
   "execution_count": 25,
   "id": "c4e6ad02-f1df-41a3-81f0-dcb056bac641",
   "metadata": {},
   "outputs": [
    {
     "data": {
      "text/plain": [
       "73042.01"
      ]
     },
     "execution_count": 25,
     "metadata": {},
     "output_type": "execute_result"
    }
   ],
   "source": [
    "Y=round((slope*5+intercept),2)\n",
    "Y"
   ]
  },
  {
   "cell_type": "code",
   "execution_count": 26,
   "id": "0341030c-c6ec-422c-9f96-4b1496446fdd",
   "metadata": {},
   "outputs": [
    {
     "data": {
      "text/plain": [
       "429658830.0"
      ]
     },
     "execution_count": 26,
     "metadata": {},
     "output_type": "execute_result"
    }
   ],
   "source": [
    "nsumxy=n*(data[\"Salary\"]*data[\"YearsExperience\"]).sum()\n",
    "nsumxy"
   ]
  },
  {
   "cell_type": "code",
   "execution_count": 27,
   "id": "f67adefa-a7ca-451f-874c-519efe996585",
   "metadata": {},
   "outputs": [
    {
     "data": {
      "text/plain": [
       "363446346.0"
      ]
     },
     "execution_count": 27,
     "metadata": {},
     "output_type": "execute_result"
    }
   ],
   "source": [
    "sumxsumy= data[\"Salary\"].sum()*data[\"YearsExperience\"].sum()\n",
    "sumxsumy"
   ]
  },
  {
   "cell_type": "code",
   "execution_count": 28,
   "id": "318b64bf-3d9d-4fc2-907e-8a6c093c76d9",
   "metadata": {},
   "outputs": [
    {
     "data": {
      "text/plain": [
       "5852659743660"
      ]
     },
     "execution_count": 28,
     "metadata": {},
     "output_type": "execute_result"
    }
   ],
   "source": [
    "nx2sum=n*(data[\"Salary\"]**2).sum()\n",
    "nx2sum"
   ]
  },
  {
   "cell_type": "code",
   "execution_count": 29,
   "id": "d569920c-9b34-4536-903b-adb22f97f22e",
   "metadata": {},
   "outputs": [
    {
     "data": {
      "text/plain": [
       "5198810408100"
      ]
     },
     "execution_count": 29,
     "metadata": {},
     "output_type": "execute_result"
    }
   ],
   "source": [
    "sumx2=(data[\"Salary\"].sum())**2\n",
    "sumx2"
   ]
  },
  {
   "cell_type": "code",
   "execution_count": 30,
   "id": "99723a2f-462b-4c71-ac62-575ec7d8196d",
   "metadata": {},
   "outputs": [
    {
     "data": {
      "text/plain": [
       "0.00010126565922605279"
      ]
     },
     "execution_count": 30,
     "metadata": {},
     "output_type": "execute_result"
    }
   ],
   "source": [
    "slope=(nsumxy-sumxsumy)/(nx2sum-sumx2)\n",
    "slope"
   ]
  },
  {
   "cell_type": "code",
   "execution_count": 31,
   "id": "0b9a91db-17d9-4d02-812a-8405cc810917",
   "metadata": {},
   "outputs": [
    {
     "data": {
      "text/plain": [
       "-2.383160564824357"
      ]
     },
     "execution_count": 31,
     "metadata": {},
     "output_type": "execute_result"
    }
   ],
   "source": [
    "intercept=(data[\"YearsExperience\"].sum()-slope*data[\"Salary\"].sum())/n\n",
    "intercept"
   ]
  },
  {
   "cell_type": "code",
   "execution_count": 32,
   "id": "0fcb0459-d1e5-47cc-aa04-e6bc79100c31",
   "metadata": {},
   "outputs": [
    {
     "data": {
      "text/plain": [
       "2.68"
      ]
     },
     "execution_count": 32,
     "metadata": {},
     "output_type": "execute_result"
    }
   ],
   "source": [
    "X=round((slope*50000+intercept),2)\n",
    "X"
   ]
  }
 ],
 "metadata": {
  "kernelspec": {
   "display_name": "Python 3 (ipykernel)",
   "language": "python",
   "name": "python3"
  },
  "language_info": {
   "codemirror_mode": {
    "name": "ipython",
    "version": 3
   },
   "file_extension": ".py",
   "mimetype": "text/x-python",
   "name": "python",
   "nbconvert_exporter": "python",
   "pygments_lexer": "ipython3",
   "version": "3.12.4"
  }
 },
 "nbformat": 4,
 "nbformat_minor": 5
}
